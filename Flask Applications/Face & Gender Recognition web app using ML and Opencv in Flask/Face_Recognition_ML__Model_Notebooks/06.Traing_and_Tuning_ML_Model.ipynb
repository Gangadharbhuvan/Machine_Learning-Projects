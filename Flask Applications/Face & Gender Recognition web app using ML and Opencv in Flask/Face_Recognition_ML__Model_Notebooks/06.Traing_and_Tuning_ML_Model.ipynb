{
 "cells": [
  {
   "cell_type": "code",
   "execution_count": 1,
   "id": "finnish-contractor",
   "metadata": {},
   "outputs": [],
   "source": [
    "import numpy as np\n",
    "import pandas as pd\n",
    "import matplotlib.pyplot as plt\n",
    "%matplotlib inline\n",
    "import cv2\n",
    "from PIL import Image \n",
    "from glob import glob\n",
    "import pickle"
   ]
  },
  {
   "cell_type": "code",
   "execution_count": 2,
   "id": "respiratory-queensland",
   "metadata": {},
   "outputs": [
    {
     "data": {
      "text/plain": [
       "['arr_0', 'arr_1', 'arr_2']"
      ]
     },
     "execution_count": 2,
     "metadata": {},
     "output_type": "execute_result"
    }
   ],
   "source": [
    "data = np.load('./data/data_pca_50_y_mean.pickle.npz')\n",
    "data.files"
   ]
  },
  {
   "cell_type": "code",
   "execution_count": 3,
   "id": "unavailable-onion",
   "metadata": {},
   "outputs": [],
   "source": [
    "X = data['arr_0']\n",
    "y = data['arr_1']\n",
    "mean = data['arr_2']"
   ]
  },
  {
   "cell_type": "code",
   "execution_count": 4,
   "id": "apparent-airport",
   "metadata": {},
   "outputs": [
    {
     "data": {
      "text/plain": [
       "((1024, 50), (256, 50), (1024,), (256,))"
      ]
     },
     "execution_count": 4,
     "metadata": {},
     "output_type": "execute_result"
    }
   ],
   "source": [
    "from sklearn.model_selection import train_test_split\n",
    "x_train,x_test,y_train,y_test = train_test_split(X,y,test_size=0.2,stratify=y)\n",
    "x_train.shape,x_test.shape,y_train.shape,y_test.shape"
   ]
  },
  {
   "cell_type": "markdown",
   "id": "minor-aviation",
   "metadata": {},
   "source": [
    "# Training a Machine learning Model"
   ]
  },
  {
   "cell_type": "code",
   "execution_count": 5,
   "id": "tutorial-sierra",
   "metadata": {},
   "outputs": [],
   "source": [
    "from sklearn.svm import SVC"
   ]
  },
  {
   "cell_type": "code",
   "execution_count": 6,
   "id": "bacterial-suspect",
   "metadata": {},
   "outputs": [],
   "source": [
    "model = SVC(C=1.0,kernel='rbf',gamma=0.01,probability=True)"
   ]
  },
  {
   "cell_type": "code",
   "execution_count": 7,
   "id": "satellite-marshall",
   "metadata": {},
   "outputs": [
    {
     "name": "stdout",
     "output_type": "stream",
     "text": [
      "model trained successfully\n"
     ]
    }
   ],
   "source": [
    "model.fit(x_train,y_train)\n",
    "print('model trained successfully')"
   ]
  },
  {
   "cell_type": "code",
   "execution_count": 8,
   "id": "attached-navigation",
   "metadata": {},
   "outputs": [
    {
     "data": {
      "text/plain": [
       "0.765625"
      ]
     },
     "execution_count": 8,
     "metadata": {},
     "output_type": "execute_result"
    }
   ],
   "source": [
    "# score\n",
    "model.score(x_test,y_test)"
   ]
  },
  {
   "cell_type": "markdown",
   "id": "optimum-marks",
   "metadata": {},
   "source": [
    "# Model Evaluation\n",
    "- Confusion matrix\n",
    "- Classification Report\n",
    "- Kappa Score\n",
    "- ROC and AUC (Probaility)"
   ]
  },
  {
   "cell_type": "code",
   "execution_count": 9,
   "id": "blind-adobe",
   "metadata": {},
   "outputs": [],
   "source": [
    "from sklearn import metrics"
   ]
  },
  {
   "cell_type": "code",
   "execution_count": 10,
   "id": "initial-emission",
   "metadata": {},
   "outputs": [],
   "source": [
    "y_pred = model.predict(x_test)\n",
    "y_prob = model.predict_proba(x_test) # probability"
   ]
  },
  {
   "cell_type": "code",
   "execution_count": 11,
   "id": "cultural-assignment",
   "metadata": {},
   "outputs": [
    {
     "data": {
      "image/png": "[encoded data removed]",
      "text/plain": [
       "<Figure size 432x288 with 1 Axes>"
      ]
     },
     "metadata": {
      "needs_background": "light"
     },
     "output_type": "display_data"
    }
   ],
   "source": [
    "cm = metrics.confusion_matrix(y_test,y_pred)\n",
    "cm = np.concatenate((cm,cm.sum(axis=0).reshape(1,-1)),axis=0)\n",
    "cm = np.concatenate((cm,cm.sum(axis=1).reshape(-1,1)),axis=1)\n",
    "plt.imshow(cm)\n",
    "for i in range(3):\n",
    "    for j in range(3):\n",
    "        plt.text(i,j,'%d'%cm[i,j])\n",
    "        \n",
    "plt.xticks([0,1])\n",
    "plt.yticks([0,1])\n",
    "plt.xlabel('Predicted values')\n",
    "plt.ylabel('True values')\n",
    "plt.show()"
   ]
  },
  {
   "cell_type": "code",
   "execution_count": 12,
   "id": "right-alignment",
   "metadata": {},
   "outputs": [
    {
     "data": {
      "text/html": [
       "<div>\n",
       "<style scoped>\n",
       "    .dataframe tbody tr th:only-of-type {\n",
       "        vertical-align: middle;\n",
       "    }\n",
       "\n",
       "    .dataframe tbody tr th {\n",
       "        vertical-align: top;\n",
       "    }\n",
       "\n",
       "    .dataframe thead th {\n",
       "        text-align: right;\n",
       "    }\n",
       "</style>\n",
       "<table border=\"1\" class=\"dataframe\">\n",
       "  <thead>\n",
       "    <tr style=\"text-align: right;\">\n",
       "      <th></th>\n",
       "      <th>precision</th>\n",
       "      <th>recall</th>\n",
       "      <th>f1-score</th>\n",
       "      <th>support</th>\n",
       "    </tr>\n",
       "  </thead>\n",
       "  <tbody>\n",
       "    <tr>\n",
       "      <th>males</th>\n",
       "      <td>0.709302</td>\n",
       "      <td>0.635417</td>\n",
       "      <td>0.670330</td>\n",
       "      <td>96.000000</td>\n",
       "    </tr>\n",
       "    <tr>\n",
       "      <th>female</th>\n",
       "      <td>0.794118</td>\n",
       "      <td>0.843750</td>\n",
       "      <td>0.818182</td>\n",
       "      <td>160.000000</td>\n",
       "    </tr>\n",
       "    <tr>\n",
       "      <th>accuracy</th>\n",
       "      <td>0.765625</td>\n",
       "      <td>0.765625</td>\n",
       "      <td>0.765625</td>\n",
       "      <td>0.765625</td>\n",
       "    </tr>\n",
       "    <tr>\n",
       "      <th>macro avg</th>\n",
       "      <td>0.751710</td>\n",
       "      <td>0.739583</td>\n",
       "      <td>0.744256</td>\n",
       "      <td>256.000000</td>\n",
       "    </tr>\n",
       "    <tr>\n",
       "      <th>weighted avg</th>\n",
       "      <td>0.762312</td>\n",
       "      <td>0.765625</td>\n",
       "      <td>0.762737</td>\n",
       "      <td>256.000000</td>\n",
       "    </tr>\n",
       "  </tbody>\n",
       "</table>\n",
       "</div>"
      ],
      "text/plain": [
       "              precision    recall  f1-score     support\n",
       "males          0.709302  0.635417  0.670330   96.000000\n",
       "female         0.794118  0.843750  0.818182  160.000000\n",
       "accuracy       0.765625  0.765625  0.765625    0.765625\n",
       "macro avg      0.751710  0.739583  0.744256  256.000000\n",
       "weighted avg   0.762312  0.765625  0.762737  256.000000"
      ]
     },
     "execution_count": 12,
     "metadata": {},
     "output_type": "execute_result"
    }
   ],
   "source": [
    "# Classification report\n",
    "cr = metrics.classification_report(y_test,y_pred,target_names=['males','female'],output_dict=True)\n",
    "pd.DataFrame(cr).T"
   ]
  },
  {
   "cell_type": "code",
   "execution_count": 13,
   "id": "level-regression",
   "metadata": {},
   "outputs": [
    {
     "data": {
      "text/plain": [
       "0.4893617021276596"
      ]
     },
     "execution_count": 13,
     "metadata": {},
     "output_type": "execute_result"
    }
   ],
   "source": [
    "# Kappa score\n",
    "metrics.cohen_kappa_score(y_test,y_pred)"
   ]
  },
  {
   "cell_type": "markdown",
   "id": "enabling-approach",
   "metadata": {},
   "source": [
    "# ROC and AUC"
   ]
  },
  {
   "cell_type": "code",
   "execution_count": 14,
   "id": "built-latin",
   "metadata": {},
   "outputs": [
    {
     "data": {
      "image/png": "[encoded data removed]",
      "text/plain": [
       "<Figure size 720x432 with 1 Axes>"
      ]
     },
     "metadata": {
      "needs_background": "light"
     },
     "output_type": "display_data"
    }
   ],
   "source": [
    "# roc for female\n",
    "fpr,tpr,thresh = metrics.roc_curve(y_test,y_prob[:,1])\n",
    "auc_s = metrics.auc(fpr,tpr)\n",
    "plt.figure(figsize=(10,6))\n",
    "plt.plot(fpr,tpr,'-.')\n",
    "plt.plot([0,1],[0,1],'b--')\n",
    "for i in range(0,len(thresh),20):\n",
    "    plt.plot(fpr[i],tpr[i],'^')\n",
    "    plt.text(fpr[i],tpr[i],\"%0.2f\"%thresh[i])\n",
    "plt.legend(['AUC Score = %0.2f'%auc_s])\n",
    "\n",
    "plt.xlabel('False Positive Rate')\n",
    "plt.ylabel('True Positive Rate')\n",
    "plt.title('Receiver Operating Characteristics')\n",
    "plt.show()"
   ]
  },
  {
   "cell_type": "markdown",
   "id": "surprising-frontier",
   "metadata": {},
   "source": [
    "# Hyper Parameter Tuning"
   ]
  },
  {
   "cell_type": "code",
   "execution_count": 15,
   "id": "pointed-clarity",
   "metadata": {},
   "outputs": [],
   "source": [
    "model_tune = SVC()"
   ]
  },
  {
   "cell_type": "code",
   "execution_count": 16,
   "id": "exotic-aside",
   "metadata": {},
   "outputs": [],
   "source": [
    "from sklearn.model_selection import GridSearchCV"
   ]
  },
  {
   "cell_type": "code",
   "execution_count": 17,
   "id": "other-antigua",
   "metadata": {},
   "outputs": [],
   "source": [
    "param_grid = {'C':[1,10,20,30,50,100],\n",
    "             'kernel':['rbf','poly'],\n",
    "             'gamma':[0.1,0.05,0.01,0.001,0.002,0.005],\n",
    "             'coef0':[0,1],\n",
    "             }"
   ]
  },
  {
   "cell_type": "code",
   "execution_count": 18,
   "id": "normal-daisy",
   "metadata": {},
   "outputs": [],
   "source": [
    "model_grid = GridSearchCV(SVC(),param_grid=param_grid,scoring='accuracy',cv=10,verbose=1)"
   ]
  },
  {
   "cell_type": "code",
   "execution_count": 19,
   "id": "marked-pillow",
   "metadata": {},
   "outputs": [
    {
     "name": "stdout",
     "output_type": "stream",
     "text": [
      "Fitting 10 folds for each of 144 candidates, totalling 1440 fits\n"
     ]
    },
    {
     "data": {
      "text/plain": [
       "GridSearchCV(cv=10, estimator=SVC(),\n",
       "             param_grid={'C': [1, 10, 20, 30, 50, 100], 'coef0': [0, 1],\n",
       "                         'gamma': [0.1, 0.05, 0.01, 0.001, 0.002, 0.005],\n",
       "                         'kernel': ['rbf', 'poly']},\n",
       "             scoring='accuracy', verbose=1)"
      ]
     },
     "execution_count": 19,
     "metadata": {},
     "output_type": "execute_result"
    }
   ],
   "source": [
    "model_grid.fit(X,y)"
   ]
  },
  {
   "cell_type": "code",
   "execution_count": 20,
   "id": "alpha-lesson",
   "metadata": {},
   "outputs": [
    {
     "data": {
      "text/plain": [
       "117"
      ]
     },
     "execution_count": 20,
     "metadata": {},
     "output_type": "execute_result"
    }
   ],
   "source": [
    "model_grid.best_index_"
   ]
  },
  {
   "cell_type": "code",
   "execution_count": 21,
   "id": "constitutional-consideration",
   "metadata": {},
   "outputs": [
    {
     "data": {
      "text/plain": [
       "{'C': 50, 'coef0': 1, 'gamma': 0.002, 'kernel': 'poly'}"
      ]
     },
     "execution_count": 21,
     "metadata": {},
     "output_type": "execute_result"
    }
   ],
   "source": [
    "model_grid.best_params_"
   ]
  },
  {
   "cell_type": "code",
   "execution_count": 22,
   "id": "productive-france",
   "metadata": {},
   "outputs": [
    {
     "data": {
      "text/plain": [
       "0.83125"
      ]
     },
     "execution_count": 22,
     "metadata": {},
     "output_type": "execute_result"
    }
   ],
   "source": [
    "model_grid.best_score_"
   ]
  },
  {
   "cell_type": "code",
   "execution_count": 23,
   "id": "prepared-replacement",
   "metadata": {},
   "outputs": [],
   "source": [
    "# With best parameter build ML Model _\n",
    "model_best = SVC(C=20,kernel='rbf',gamma=0.005,probability=True)"
   ]
  },
  {
   "cell_type": "code",
   "execution_count": 24,
   "id": "elect-rwanda",
   "metadata": {},
   "outputs": [
    {
     "data": {
      "text/plain": [
       "0.84765625"
      ]
     },
     "execution_count": 24,
     "metadata": {},
     "output_type": "execute_result"
    }
   ],
   "source": [
    "model_best.fit(x_train,y_train)\n",
    "model_best.score(x_test,y_test)"
   ]
  },
  {
   "cell_type": "code",
   "execution_count": 25,
   "id": "mature-right",
   "metadata": {},
   "outputs": [],
   "source": [
    "y_pred = model_best.predict(x_test)\n",
    "y_prob = model_best.predict_proba(x_test) # probability"
   ]
  },
  {
   "cell_type": "code",
   "execution_count": 26,
   "id": "infrared-indonesian",
   "metadata": {},
   "outputs": [
    {
     "data": {
      "image/png": "[encoded data removed]",
      "text/plain": [
       "<Figure size 432x288 with 1 Axes>"
      ]
     },
     "metadata": {
      "needs_background": "light"
     },
     "output_type": "display_data"
    }
   ],
   "source": [
    "cm = metrics.confusion_matrix(y_test,y_pred)\n",
    "cm = np.concatenate((cm,cm.sum(axis=0).reshape(1,-1)),axis=0)\n",
    "cm = np.concatenate((cm,cm.sum(axis=1).reshape(-1,1)),axis=1)\n",
    "plt.imshow(cm)\n",
    "for i in range(3):\n",
    "    for j in range(3):\n",
    "        plt.text(i,j,'%d'%cm[i,j])\n",
    "        \n",
    "plt.xticks([0,1])\n",
    "plt.yticks([0,1])\n",
    "plt.xlabel('Predicted values')\n",
    "plt.ylabel('True values')\n",
    "plt.show()"
   ]
  },
  {
   "cell_type": "code",
   "execution_count": 27,
   "id": "expensive-cardiff",
   "metadata": {},
   "outputs": [
    {
     "data": {
      "text/html": [
       "<div>\n",
       "<style scoped>\n",
       "    .dataframe tbody tr th:only-of-type {\n",
       "        vertical-align: middle;\n",
       "    }\n",
       "\n",
       "    .dataframe tbody tr th {\n",
       "        vertical-align: top;\n",
       "    }\n",
       "\n",
       "    .dataframe thead th {\n",
       "        text-align: right;\n",
       "    }\n",
       "</style>\n",
       "<table border=\"1\" class=\"dataframe\">\n",
       "  <thead>\n",
       "    <tr style=\"text-align: right;\">\n",
       "      <th></th>\n",
       "      <th>precision</th>\n",
       "      <th>recall</th>\n",
       "      <th>f1-score</th>\n",
       "      <th>support</th>\n",
       "    </tr>\n",
       "  </thead>\n",
       "  <tbody>\n",
       "    <tr>\n",
       "      <th>males</th>\n",
       "      <td>0.813187</td>\n",
       "      <td>0.770833</td>\n",
       "      <td>0.791444</td>\n",
       "      <td>96.000000</td>\n",
       "    </tr>\n",
       "    <tr>\n",
       "      <th>female</th>\n",
       "      <td>0.866667</td>\n",
       "      <td>0.893750</td>\n",
       "      <td>0.880000</td>\n",
       "      <td>160.000000</td>\n",
       "    </tr>\n",
       "    <tr>\n",
       "      <th>accuracy</th>\n",
       "      <td>0.847656</td>\n",
       "      <td>0.847656</td>\n",
       "      <td>0.847656</td>\n",
       "      <td>0.847656</td>\n",
       "    </tr>\n",
       "    <tr>\n",
       "      <th>macro avg</th>\n",
       "      <td>0.839927</td>\n",
       "      <td>0.832292</td>\n",
       "      <td>0.835722</td>\n",
       "      <td>256.000000</td>\n",
       "    </tr>\n",
       "    <tr>\n",
       "      <th>weighted avg</th>\n",
       "      <td>0.846612</td>\n",
       "      <td>0.847656</td>\n",
       "      <td>0.846791</td>\n",
       "      <td>256.000000</td>\n",
       "    </tr>\n",
       "  </tbody>\n",
       "</table>\n",
       "</div>"
      ],
      "text/plain": [
       "              precision    recall  f1-score     support\n",
       "males          0.813187  0.770833  0.791444   96.000000\n",
       "female         0.866667  0.893750  0.880000  160.000000\n",
       "accuracy       0.847656  0.847656  0.847656    0.847656\n",
       "macro avg      0.839927  0.832292  0.835722  256.000000\n",
       "weighted avg   0.846612  0.847656  0.846791  256.000000"
      ]
     },
     "execution_count": 27,
     "metadata": {},
     "output_type": "execute_result"
    }
   ],
   "source": [
    "# Classification report\n",
    "cr = metrics.classification_report(y_test,y_pred,target_names=['males','female'],output_dict=True)\n",
    "pd.DataFrame(cr).T"
   ]
  },
  {
   "cell_type": "code",
   "execution_count": 28,
   "id": "collect-premium",
   "metadata": {},
   "outputs": [
    {
     "data": {
      "text/plain": [
       "0.671578947368421"
      ]
     },
     "execution_count": 28,
     "metadata": {},
     "output_type": "execute_result"
    }
   ],
   "source": [
    "# Kappa score\n",
    "metrics.cohen_kappa_score(y_test,y_pred)"
   ]
  },
  {
   "cell_type": "code",
   "execution_count": 29,
   "id": "naval-needle",
   "metadata": {},
   "outputs": [
    {
     "data": {
      "image/png": "[encoded data removed]",
      "text/plain": [
       "<Figure size 720x432 with 1 Axes>"
      ]
     },
     "metadata": {
      "needs_background": "light"
     },
     "output_type": "display_data"
    }
   ],
   "source": [
    "# roc for female\n",
    "fpr,tpr,thresh = metrics.roc_curve(y_test,y_prob[:,1])\n",
    "auc_s = metrics.auc(fpr,tpr)\n",
    "plt.figure(figsize=(10,6))\n",
    "plt.plot(fpr,tpr,'-.')\n",
    "plt.plot([0,1],[0,1],'b--')\n",
    "for i in range(0,len(thresh),20):\n",
    "    plt.plot(fpr[i],tpr[i],'^')\n",
    "    plt.text(fpr[i],tpr[i],\"%0.2f\"%thresh[i])\n",
    "plt.legend(['AUC Score = %0.2f'%auc_s])\n",
    "\n",
    "plt.xlabel('False Positive Rate')\n",
    "plt.ylabel('True Positive Rate')\n",
    "plt.title('Receiver Operating Characteristics')\n",
    "plt.show()"
   ]
  },
  {
   "cell_type": "code",
   "execution_count": 30,
   "id": "phantom-gibraltar",
   "metadata": {},
   "outputs": [],
   "source": [
    "# save our machine learning model\n",
    "import pickle\n",
    "pickle.dump(model_best,open('model_svm.pickle','wb'))"
   ]
  },
  {
   "cell_type": "code",
   "execution_count": 31,
   "id": "drawn-borough",
   "metadata": {},
   "outputs": [],
   "source": [
    "pickle.dump(mean,open('./model/mean_preprocess.pickle','wb'))"
   ]
  },
  {
   "cell_type": "code",
   "execution_count": null,
   "id": "supposed-paragraph",
   "metadata": {},
   "outputs": [],
   "source": []
  }
 ],
 "metadata": {
  "kernelspec": {
   "display_name": "Python 3",
   "language": "python",
   "name": "python3"
  },
  "language_info": {
   "codemirror_mode": {
    "name": "ipython",
    "version": 3
   },
   "file_extension": ".py",
   "mimetype": "text/x-python",
   "name": "python",
   "nbconvert_exporter": "python",
   "pygments_lexer": "ipython3",
   "version": "3.8.5"
  }
 },
 "nbformat": 4,
 "nbformat_minor": 5
}
